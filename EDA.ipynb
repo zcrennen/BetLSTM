{
 "cells": [
  {
   "cell_type": "markdown",
   "metadata": {},
   "source": [
    "# Exploratory Data Analysis\n",
    "The goal of this notebook is to explore the nba match details dataset. It has 47 columns, so there's quite a bit to unpack here. This notebook seeks to identify which features are important, and which ones are correlated. Trying to reduce our complexity here"
   ]
  },
  {
   "cell_type": "markdown",
   "metadata": {},
   "source": [
    "# Step 0: Dependencies"
   ]
  },
  {
   "cell_type": "markdown",
   "metadata": {},
   "source": [
    "## 0.1: Install dependencies\n",
    "Since I am using a venv, we need to install these dependencies"
   ]
  },
  {
   "cell_type": "code",
   "execution_count": 18,
   "metadata": {},
   "outputs": [
    {
     "name": "stdout",
     "output_type": "stream",
     "text": [
      "Requirement already satisfied: pandas in c:\\users\\doggi\\desktop\\pp\\betlstm\\.venv\\lib\\site-packages (2.1.0)\n",
      "Requirement already satisfied: numpy in c:\\users\\doggi\\desktop\\pp\\betlstm\\.venv\\lib\\site-packages (1.25.2)\n",
      "Collecting matplotlib\n",
      "  Obtaining dependency information for matplotlib from https://files.pythonhosted.org/packages/ff/1f/2b83c7acf453318a80dc619e99fc30a663b2c1fb18be3d358a96addfecd9/matplotlib-3.7.2-cp310-cp310-win_amd64.whl.metadata\n",
      "  Using cached matplotlib-3.7.2-cp310-cp310-win_amd64.whl.metadata (5.8 kB)\n",
      "Requirement already satisfied: python-dateutil>=2.8.2 in c:\\users\\doggi\\desktop\\pp\\betlstm\\.venv\\lib\\site-packages (from pandas) (2.8.2)\n",
      "Requirement already satisfied: pytz>=2020.1 in c:\\users\\doggi\\desktop\\pp\\betlstm\\.venv\\lib\\site-packages (from pandas) (2023.3.post1)\n",
      "Requirement already satisfied: tzdata>=2022.1 in c:\\users\\doggi\\desktop\\pp\\betlstm\\.venv\\lib\\site-packages (from pandas) (2023.3)\n",
      "Collecting contourpy>=1.0.1 (from matplotlib)\n",
      "  Obtaining dependency information for contourpy>=1.0.1 from https://files.pythonhosted.org/packages/94/0a/5eb57dd395fade977786b2d2c98c2bee8234358794be44422fe58a719d42/contourpy-1.1.0-cp310-cp310-win_amd64.whl.metadata\n",
      "  Using cached contourpy-1.1.0-cp310-cp310-win_amd64.whl.metadata (5.7 kB)\n",
      "Collecting cycler>=0.10 (from matplotlib)\n",
      "  Using cached cycler-0.11.0-py3-none-any.whl (6.4 kB)\n",
      "Collecting fonttools>=4.22.0 (from matplotlib)\n",
      "  Obtaining dependency information for fonttools>=4.22.0 from https://files.pythonhosted.org/packages/1c/c6/408ee90eae2fd7ef85c5baaedfc8d533805f4c54fc6670dbde9539f1277b/fonttools-4.42.1-cp310-cp310-win_amd64.whl.metadata\n",
      "  Using cached fonttools-4.42.1-cp310-cp310-win_amd64.whl.metadata (154 kB)\n",
      "Collecting kiwisolver>=1.0.1 (from matplotlib)\n",
      "  Obtaining dependency information for kiwisolver>=1.0.1 from https://files.pythonhosted.org/packages/4a/a1/8a9c9be45c642fa12954855d8b3a02d9fd8551165a558835a19508fec2e6/kiwisolver-1.4.5-cp310-cp310-win_amd64.whl.metadata\n",
      "  Using cached kiwisolver-1.4.5-cp310-cp310-win_amd64.whl.metadata (6.5 kB)\n",
      "Requirement already satisfied: packaging>=20.0 in c:\\users\\doggi\\desktop\\pp\\betlstm\\.venv\\lib\\site-packages (from matplotlib) (23.1)\n",
      "Collecting pillow>=6.2.0 (from matplotlib)\n",
      "  Obtaining dependency information for pillow>=6.2.0 from https://files.pythonhosted.org/packages/d0/4f/faebe1180e5e6ad6330c539dda7f6081182157393ba6816a438f759a0e59/Pillow-10.0.0-cp310-cp310-win_amd64.whl.metadata\n",
      "  Using cached Pillow-10.0.0-cp310-cp310-win_amd64.whl.metadata (9.6 kB)\n",
      "Collecting pyparsing<3.1,>=2.3.1 (from matplotlib)\n",
      "  Using cached pyparsing-3.0.9-py3-none-any.whl (98 kB)\n",
      "Requirement already satisfied: six>=1.5 in c:\\users\\doggi\\desktop\\pp\\betlstm\\.venv\\lib\\site-packages (from python-dateutil>=2.8.2->pandas) (1.16.0)\n",
      "Using cached matplotlib-3.7.2-cp310-cp310-win_amd64.whl (7.5 MB)\n",
      "Using cached contourpy-1.1.0-cp310-cp310-win_amd64.whl (470 kB)\n",
      "Using cached fonttools-4.42.1-cp310-cp310-win_amd64.whl (2.1 MB)\n",
      "Using cached kiwisolver-1.4.5-cp310-cp310-win_amd64.whl (56 kB)\n",
      "Using cached Pillow-10.0.0-cp310-cp310-win_amd64.whl (2.5 MB)\n",
      "Installing collected packages: pyparsing, pillow, kiwisolver, fonttools, cycler, contourpy, matplotlib\n",
      "Successfully installed contourpy-1.1.0 cycler-0.11.0 fonttools-4.42.1 kiwisolver-1.4.5 matplotlib-3.7.2 pillow-10.0.0 pyparsing-3.0.9\n"
     ]
    }
   ],
   "source": [
    "!pip install pandas numpy matplotlib"
   ]
  },
  {
   "cell_type": "markdown",
   "metadata": {},
   "source": [
    "## 0.2: Import Dependencies\n",
    "Now that we have installed our dependencies, we need to import them."
   ]
  },
  {
   "cell_type": "code",
   "execution_count": 19,
   "metadata": {},
   "outputs": [],
   "source": [
    "import pandas as pd\n",
    "import numpy as np\n",
    "import matplotlib.pyplot as plt"
   ]
  },
  {
   "cell_type": "markdown",
   "metadata": {},
   "source": [
    "## Step 1: Load data\n",
    "Now, let's load in our data, and take a look at it. This dataset was a very lucky find, and has data from every single NBA game every up until 2022."
   ]
  },
  {
   "cell_type": "code",
   "execution_count": 8,
   "metadata": {},
   "outputs": [],
   "source": [
    "df = pd.read_csv('NBA_MATCH_DETAILS.csv')"
   ]
  },
  {
   "cell_type": "markdown",
   "metadata": {},
   "source": [
    "Let's take a look at the head to get an idea of what stats we are using."
   ]
  },
  {
   "cell_type": "code",
   "execution_count": 9,
   "metadata": {},
   "outputs": [
    {
     "data": {
      "text/html": [
       "<div>\n",
       "<style scoped>\n",
       "    .dataframe tbody tr th:only-of-type {\n",
       "        vertical-align: middle;\n",
       "    }\n",
       "\n",
       "    .dataframe tbody tr th {\n",
       "        vertical-align: top;\n",
       "    }\n",
       "\n",
       "    .dataframe thead th {\n",
       "        text-align: right;\n",
       "    }\n",
       "</style>\n",
       "<table border=\"1\" class=\"dataframe\">\n",
       "  <thead>\n",
       "    <tr style=\"text-align: right;\">\n",
       "      <th></th>\n",
       "      <th>SEASON_ID</th>\n",
       "      <th>GAME_DATE</th>\n",
       "      <th>GAME_ID</th>\n",
       "      <th>MATCHUP</th>\n",
       "      <th>TEAM_NAME_HOME</th>\n",
       "      <th>TEAM_ID_HOME</th>\n",
       "      <th>TEAM_ABBREVIATION_HOME</th>\n",
       "      <th>FGM_HOME</th>\n",
       "      <th>FGA_HOME</th>\n",
       "      <th>FG_PCT_HOME</th>\n",
       "      <th>...</th>\n",
       "      <th>DREB_AWAY</th>\n",
       "      <th>REB_AWAY</th>\n",
       "      <th>AST_AWAY</th>\n",
       "      <th>STL_AWAY</th>\n",
       "      <th>BLK_AWAY</th>\n",
       "      <th>TOV_AWAY</th>\n",
       "      <th>PF_AWAY</th>\n",
       "      <th>PTS_AWAY</th>\n",
       "      <th>PTS_HOME</th>\n",
       "      <th>WL_HOME</th>\n",
       "    </tr>\n",
       "  </thead>\n",
       "  <tbody>\n",
       "    <tr>\n",
       "      <th>0</th>\n",
       "      <td>NaN</td>\n",
       "      <td>1981-03-29</td>\n",
       "      <td>28000934</td>\n",
       "      <td>ATL vs. MIL</td>\n",
       "      <td>Atlanta Hawks</td>\n",
       "      <td>1610612737</td>\n",
       "      <td>ATL</td>\n",
       "      <td>41.0</td>\n",
       "      <td>NaN</td>\n",
       "      <td>NaN</td>\n",
       "      <td>...</td>\n",
       "      <td>NaN</td>\n",
       "      <td>0</td>\n",
       "      <td>NaN</td>\n",
       "      <td>NaN</td>\n",
       "      <td>NaN</td>\n",
       "      <td>NaN</td>\n",
       "      <td>38.0</td>\n",
       "      <td>132</td>\n",
       "      <td>128</td>\n",
       "      <td>L</td>\n",
       "    </tr>\n",
       "    <tr>\n",
       "      <th>1</th>\n",
       "      <td>NaN</td>\n",
       "      <td>1981-03-26</td>\n",
       "      <td>28000919</td>\n",
       "      <td>ATL vs. IND</td>\n",
       "      <td>Atlanta Hawks</td>\n",
       "      <td>1610612737</td>\n",
       "      <td>ATL</td>\n",
       "      <td>43.0</td>\n",
       "      <td>NaN</td>\n",
       "      <td>NaN</td>\n",
       "      <td>...</td>\n",
       "      <td>NaN</td>\n",
       "      <td>0</td>\n",
       "      <td>NaN</td>\n",
       "      <td>NaN</td>\n",
       "      <td>NaN</td>\n",
       "      <td>NaN</td>\n",
       "      <td>20.0</td>\n",
       "      <td>115</td>\n",
       "      <td>107</td>\n",
       "      <td>L</td>\n",
       "    </tr>\n",
       "    <tr>\n",
       "      <th>2</th>\n",
       "      <td>NaN</td>\n",
       "      <td>1981-03-24</td>\n",
       "      <td>28000908</td>\n",
       "      <td>ATL vs. DET</td>\n",
       "      <td>Atlanta Hawks</td>\n",
       "      <td>1610612737</td>\n",
       "      <td>ATL</td>\n",
       "      <td>41.0</td>\n",
       "      <td>NaN</td>\n",
       "      <td>NaN</td>\n",
       "      <td>...</td>\n",
       "      <td>NaN</td>\n",
       "      <td>0</td>\n",
       "      <td>NaN</td>\n",
       "      <td>NaN</td>\n",
       "      <td>NaN</td>\n",
       "      <td>NaN</td>\n",
       "      <td>22.0</td>\n",
       "      <td>91</td>\n",
       "      <td>96</td>\n",
       "      <td>W</td>\n",
       "    </tr>\n",
       "    <tr>\n",
       "      <th>3</th>\n",
       "      <td>NaN</td>\n",
       "      <td>1981-03-14</td>\n",
       "      <td>28000845</td>\n",
       "      <td>ATL vs. CLE</td>\n",
       "      <td>Atlanta Hawks</td>\n",
       "      <td>1610612737</td>\n",
       "      <td>ATL</td>\n",
       "      <td>45.0</td>\n",
       "      <td>NaN</td>\n",
       "      <td>NaN</td>\n",
       "      <td>...</td>\n",
       "      <td>NaN</td>\n",
       "      <td>0</td>\n",
       "      <td>NaN</td>\n",
       "      <td>NaN</td>\n",
       "      <td>NaN</td>\n",
       "      <td>NaN</td>\n",
       "      <td>27.0</td>\n",
       "      <td>112</td>\n",
       "      <td>110</td>\n",
       "      <td>L</td>\n",
       "    </tr>\n",
       "    <tr>\n",
       "      <th>4</th>\n",
       "      <td>NaN</td>\n",
       "      <td>1981-03-13</td>\n",
       "      <td>28000839</td>\n",
       "      <td>ATL vs. DEN</td>\n",
       "      <td>Atlanta Hawks</td>\n",
       "      <td>1610612737</td>\n",
       "      <td>ATL</td>\n",
       "      <td>47.0</td>\n",
       "      <td>NaN</td>\n",
       "      <td>NaN</td>\n",
       "      <td>...</td>\n",
       "      <td>NaN</td>\n",
       "      <td>0</td>\n",
       "      <td>NaN</td>\n",
       "      <td>NaN</td>\n",
       "      <td>NaN</td>\n",
       "      <td>NaN</td>\n",
       "      <td>28.0</td>\n",
       "      <td>117</td>\n",
       "      <td>119</td>\n",
       "      <td>W</td>\n",
       "    </tr>\n",
       "  </tbody>\n",
       "</table>\n",
       "<p>5 rows × 47 columns</p>\n",
       "</div>"
      ],
      "text/plain": [
       "   SEASON_ID   GAME_DATE   GAME_ID      MATCHUP TEAM_NAME_HOME  TEAM_ID_HOME  \\\n",
       "0        NaN  1981-03-29  28000934  ATL vs. MIL  Atlanta Hawks    1610612737   \n",
       "1        NaN  1981-03-26  28000919  ATL vs. IND  Atlanta Hawks    1610612737   \n",
       "2        NaN  1981-03-24  28000908  ATL vs. DET  Atlanta Hawks    1610612737   \n",
       "3        NaN  1981-03-14  28000845  ATL vs. CLE  Atlanta Hawks    1610612737   \n",
       "4        NaN  1981-03-13  28000839  ATL vs. DEN  Atlanta Hawks    1610612737   \n",
       "\n",
       "  TEAM_ABBREVIATION_HOME  FGM_HOME  FGA_HOME  FG_PCT_HOME  ...  DREB_AWAY  \\\n",
       "0                    ATL      41.0       NaN          NaN  ...        NaN   \n",
       "1                    ATL      43.0       NaN          NaN  ...        NaN   \n",
       "2                    ATL      41.0       NaN          NaN  ...        NaN   \n",
       "3                    ATL      45.0       NaN          NaN  ...        NaN   \n",
       "4                    ATL      47.0       NaN          NaN  ...        NaN   \n",
       "\n",
       "   REB_AWAY  AST_AWAY  STL_AWAY  BLK_AWAY  TOV_AWAY  PF_AWAY  PTS_AWAY  \\\n",
       "0         0       NaN       NaN       NaN       NaN     38.0       132   \n",
       "1         0       NaN       NaN       NaN       NaN     20.0       115   \n",
       "2         0       NaN       NaN       NaN       NaN     22.0        91   \n",
       "3         0       NaN       NaN       NaN       NaN     27.0       112   \n",
       "4         0       NaN       NaN       NaN       NaN     28.0       117   \n",
       "\n",
       "   PTS_HOME  WL_HOME  \n",
       "0       128        L  \n",
       "1       107        L  \n",
       "2        96        W  \n",
       "3       110        L  \n",
       "4       119        W  \n",
       "\n",
       "[5 rows x 47 columns]"
      ]
     },
     "execution_count": 9,
     "metadata": {},
     "output_type": "execute_result"
    }
   ],
   "source": [
    "df.head()"
   ]
  },
  {
   "cell_type": "markdown",
   "metadata": {},
   "source": [
    "Looks pretty intimidating. Let's look at how many columns we have"
   ]
  },
  {
   "cell_type": "code",
   "execution_count": 10,
   "metadata": {},
   "outputs": [
    {
     "data": {
      "text/plain": [
       "47"
      ]
     },
     "execution_count": 10,
     "metadata": {},
     "output_type": "execute_result"
    }
   ],
   "source": [
    "df.shape[1]"
   ]
  },
  {
   "cell_type": "markdown",
   "metadata": {},
   "source": [
    "47 columns! This leaves us a lot of room to work with, but we definitely aren't going to want to fit this many columns into any sort of model"
   ]
  },
  {
   "cell_type": "markdown",
   "metadata": {},
   "source": [
    "## Step 2: Feature Identification\n",
    "While not apparent in the df head, certain statistics weren't tracked up until certain recent years. Now we'll have to make a decision to not use the modern statistics, or just omit the older games. Let's take a look"
   ]
  },
  {
   "cell_type": "markdown",
   "metadata": {},
   "source": [
    "First, lets try to look for the columns with null values"
   ]
  },
  {
   "cell_type": "code",
   "execution_count": 15,
   "metadata": {},
   "outputs": [
    {
     "name": "stdout",
     "output_type": "stream",
     "text": [
      "Index(['SEASON_ID', 'FGM_HOME', 'FGA_HOME', 'FG_PCT_HOME', 'FG3M_HOME',\n",
      "       'FG3A_HOME', 'FG3_PCT_HOME', 'FTM_HOME', 'FTA_HOME', 'FT_PCT_HOME',\n",
      "       'OREB_HOME', 'DREB_HOME', 'AST_HOME', 'STL_HOME', 'BLK_HOME',\n",
      "       'TOV_HOME', 'PF_HOME', 'FGM_AWAY', 'FGA_AWAY', 'FG_PCT_AWAY',\n",
      "       'FG3M_AWAY', 'FG3A_AWAY', 'FG3_PCT_AWAY', 'FTM_AWAY', 'FTA_AWAY',\n",
      "       'FT_PCT_AWAY', 'OREB_AWAY', 'DREB_AWAY', 'AST_AWAY', 'STL_AWAY',\n",
      "       'BLK_AWAY', 'TOV_AWAY', 'PF_AWAY', 'WL_HOME'],\n",
      "      dtype='object')\n",
      "Number of columns with null values: 34\n",
      "Index(['GAME_DATE', 'GAME_ID', 'MATCHUP', 'TEAM_NAME_HOME', 'TEAM_ID_HOME',\n",
      "       'TEAM_ABBREVIATION_HOME', 'REB_HOME', 'TEAM_NAME_AWAY', 'TEAM_ID_AWAY',\n",
      "       'TEAM_ABBREVIATION_AWAY', 'REB_AWAY', 'PTS_AWAY', 'PTS_HOME'],\n",
      "      dtype='object')\n",
      "Number of columns without null values: 13\n"
     ]
    }
   ],
   "source": [
    "null_cols = df.isnull().any()\n",
    "null_cols_df = df.columns[null_cols]\n",
    "print(null_cols_df)\n",
    "print(f'Number of columns with null values: {len(null_cols_df)}')\n",
    "nonNull_cols_df = df.columns[~null_cols]\n",
    "print(nonNull_cols_df)\n",
    "print(f'Number of columns without null values: {len(nonNull_cols_df)}')"
   ]
  },
  {
   "cell_type": "markdown",
   "metadata": {},
   "source": [
    "Great! However, most columns have some null values, and we can't make an accurate model with just points and rebounds. So, lets try to identify how many null values exist in each column, so we know if there are some columns with only a few null values."
   ]
  },
  {
   "cell_type": "code",
   "execution_count": 21,
   "metadata": {},
   "outputs": [
    {
     "name": "stdout",
     "output_type": "stream",
     "text": [
      "SEASON_ID: 60467\n",
      "GAME_DATE: 0\n",
      "GAME_ID: 0\n",
      "MATCHUP: 0\n",
      "TEAM_NAME_HOME: 0\n",
      "TEAM_ID_HOME: 0\n",
      "TEAM_ABBREVIATION_HOME: 0\n",
      "FGM_HOME: 7\n",
      "FGA_HOME: 15091\n",
      "FG_PCT_HOME: 15102\n",
      "FG3M_HOME: 13722\n",
      "FG3A_HOME: 18084\n",
      "FG3_PCT_HOME: 19901\n",
      "FTM_HOME: 9\n",
      "FTA_HOME: 2346\n",
      "FT_PCT_HOME: 2365\n",
      "OREB_HOME: 18370\n",
      "DREB_HOME: 18439\n",
      "REB_HOME: 0\n",
      "AST_HOME: 15415\n",
      "STL_HOME: 18287\n",
      "BLK_HOME: 18078\n",
      "TOV_HOME: 18107\n",
      "PF_HOME: 1639\n",
      "TEAM_NAME_AWAY: 0\n",
      "TEAM_ID_AWAY: 0\n",
      "TEAM_ABBREVIATION_AWAY: 0\n",
      "FGM_AWAY: 5\n",
      "FGA_AWAY: 15091\n",
      "FG_PCT_AWAY: 15099\n",
      "FG3M_AWAY: 13722\n",
      "FG3A_AWAY: 18084\n",
      "FG3_PCT_AWAY: 19893\n",
      "FTM_AWAY: 5\n",
      "FTA_AWAY: 2344\n",
      "FT_PCT_AWAY: 2368\n",
      "OREB_AWAY: 18370\n",
      "DREB_AWAY: 18438\n",
      "REB_AWAY: 0\n",
      "AST_AWAY: 15412\n",
      "STL_AWAY: 18287\n",
      "BLK_AWAY: 18077\n",
      "TOV_AWAY: 18108\n",
      "PF_AWAY: 1633\n",
      "PTS_AWAY: 0\n",
      "PTS_HOME: 0\n",
      "WL_HOME: 1\n"
     ]
    },
    {
     "data": {
      "image/png": "[encoded data removed]",
      "text/plain": [
       "<Figure size 1000x2350 with 1 Axes>"
      ]
     },
     "metadata": {},
     "output_type": "display_data"
    }
   ],
   "source": [
    "null_counts = {}\n",
    "\n",
    "for col in df.columns:\n",
    "    null_count = df[col].isnull().sum()\n",
    "    null_counts[col] = null_count\n",
    "    print(f\"{col}: {null_count}\")\n",
    "\n",
    "#Plot this with a massive bar chart\n",
    "#Depict massive figure size\n",
    "plt.figure(figsize=(10, len(df.columns) / 2))\n",
    "\n",
    "#Create horizontal bar chart\n",
    "plt.barh(range(len(null_counts)), null_counts.values(), tick_label=)\n",
    "\n",
    "plt.xlabel('Null Value Count')\n",
    "plt.ylabel('Columns')\n",
    "plt.title('Null value counts per feature')\n",
    "\n",
    "plt.tight_layout()\n",
    "plt.show()"
   ]
  }
 ],
 "metadata": {
  "kernelspec": {
   "display_name": ".venv",
   "language": "python",
   "name": "python3"
  },
  "language_info": {
   "codemirror_mode": {
    "name": "ipython",
    "version": 3
   },
   "file_extension": ".py",
   "mimetype": "text/x-python",
   "name": "python",
   "nbconvert_exporter": "python",
   "pygments_lexer": "ipython3",
   "version": "3.10.5"
  },
  "orig_nbformat": 4
 },
 "nbformat": 4,
 "nbformat_minor": 2
}
