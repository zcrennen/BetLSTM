{
 "cells": [
  {
   "cell_type": "markdown",
   "metadata": {},
   "source": [
    "# Exploratory Data Analysis\n",
    "The goal of this notebook is to explore the nba match details dataset. It has 47 columns, so there's quite a bit to unpack here. This notebook seeks to identify which features are important, and which ones are correlated. Trying to reduce our complexity here"
   ]
  },
  {
   "cell_type": "markdown",
   "metadata": {},
   "source": [
    "# Step 0: Dependencies"
   ]
  },
  {
   "cell_type": "markdown",
   "metadata": {},
   "source": [
    "## 0.1: Install dependencies\n",
    "Since I am using a venv, we need to install these dependencies"
   ]
  },
  {
   "cell_type": "code",
   "execution_count": 2,
   "metadata": {},
   "outputs": [
    {
     "name": "stdout",
     "output_type": "stream",
     "text": [
      "Collecting pandas\n",
      "  Obtaining dependency information for pandas from https://files.pythonhosted.org/packages/c5/89/ce1c7dc497f9a20644f6a7d2dd5bce6378a48321955178197fa3b55d6fe3/pandas-2.1.0-cp310-cp310-win_amd64.whl.metadata\n",
      "  Downloading pandas-2.1.0-cp310-cp310-win_amd64.whl.metadata (18 kB)\n",
      "Collecting numpy\n",
      "  Obtaining dependency information for numpy from https://files.pythonhosted.org/packages/b7/db/4d37359e2c9cf8bf071c08b8a6f7374648a5ab2e76e2e22e3b808f81d507/numpy-1.25.2-cp310-cp310-win_amd64.whl.metadata\n",
      "  Using cached numpy-1.25.2-cp310-cp310-win_amd64.whl.metadata (5.7 kB)\n",
      "Requirement already satisfied: python-dateutil>=2.8.2 in c:\\users\\doggi\\desktop\\pp\\betlstm\\.venv\\lib\\site-packages (from pandas) (2.8.2)\n",
      "Collecting pytz>=2020.1 (from pandas)\n",
      "  Obtaining dependency information for pytz>=2020.1 from https://files.pythonhosted.org/packages/32/4d/aaf7eff5deb402fd9a24a1449a8119f00d74ae9c2efa79f8ef9994261fc2/pytz-2023.3.post1-py2.py3-none-any.whl.metadata\n",
      "  Downloading pytz-2023.3.post1-py2.py3-none-any.whl.metadata (22 kB)\n",
      "Collecting tzdata>=2022.1 (from pandas)\n",
      "  Using cached tzdata-2023.3-py2.py3-none-any.whl (341 kB)\n",
      "Requirement already satisfied: six>=1.5 in c:\\users\\doggi\\desktop\\pp\\betlstm\\.venv\\lib\\site-packages (from python-dateutil>=2.8.2->pandas) (1.16.0)\n",
      "Downloading pandas-2.1.0-cp310-cp310-win_amd64.whl (11.1 MB)\n",
      "   ---------------------------------------- 0.0/11.1 MB ? eta -:--:--\n",
      "   - -------------------------------------- 0.3/11.1 MB 9.6 MB/s eta 0:00:02\n",
      "   -- ------------------------------------- 0.7/11.1 MB 9.2 MB/s eta 0:00:02\n",
      "   ---- ----------------------------------- 1.2/11.1 MB 10.4 MB/s eta 0:00:01\n",
      "   ----- ---------------------------------- 1.6/11.1 MB 10.3 MB/s eta 0:00:01\n",
      "   ------- -------------------------------- 2.1/11.1 MB 10.9 MB/s eta 0:00:01\n",
      "   --------- ------------------------------ 2.6/11.1 MB 10.4 MB/s eta 0:00:01\n",
      "   ---------- ----------------------------- 3.0/11.1 MB 10.6 MB/s eta 0:00:01\n",
      "   ------------ --------------------------- 3.4/11.1 MB 10.5 MB/s eta 0:00:01\n",
      "   ------------- -------------------------- 3.6/11.1 MB 10.6 MB/s eta 0:00:01\n",
      "   -------------- ------------------------- 4.1/11.1 MB 10.0 MB/s eta 0:00:01\n",
      "   ---------------- ----------------------- 4.4/11.1 MB 9.8 MB/s eta 0:00:01\n",
      "   ------------------ --------------------- 5.0/11.1 MB 10.0 MB/s eta 0:00:01\n",
      "   ------------------- -------------------- 5.4/11.1 MB 9.9 MB/s eta 0:00:01\n",
      "   --------------------- ------------------ 6.0/11.1 MB 10.3 MB/s eta 0:00:01\n",
      "   ----------------------- ---------------- 6.5/11.1 MB 10.4 MB/s eta 0:00:01\n",
      "   ------------------------ --------------- 6.9/11.1 MB 10.5 MB/s eta 0:00:01\n",
      "   -------------------------- ------------- 7.5/11.1 MB 10.6 MB/s eta 0:00:01\n",
      "   ---------------------------- ----------- 8.0/11.1 MB 10.6 MB/s eta 0:00:01\n",
      "   ------------------------------- -------- 8.6/11.1 MB 10.8 MB/s eta 0:00:01\n",
      "   --------------------------------- ------ 9.2/11.1 MB 10.9 MB/s eta 0:00:01\n",
      "   ----------------------------------- ---- 9.7/11.1 MB 11.1 MB/s eta 0:00:01\n",
      "   ------------------------------------- -- 10.4/11.1 MB 11.3 MB/s eta 0:00:01\n",
      "   ---------------------------------------  10.8/11.1 MB 11.3 MB/s eta 0:00:01\n",
      "   ---------------------------------------  11.1/11.1 MB 11.3 MB/s eta 0:00:01\n",
      "   ---------------------------------------  11.1/11.1 MB 11.3 MB/s eta 0:00:01\n",
      "   ---------------------------------------- 11.1/11.1 MB 10.4 MB/s eta 0:00:00\n",
      "Using cached numpy-1.25.2-cp310-cp310-win_amd64.whl (15.6 MB)\n",
      "Downloading pytz-2023.3.post1-py2.py3-none-any.whl (502 kB)\n",
      "   ---------------------------------------- 0.0/502.5 kB ? eta -:--:--\n",
      "   ---------------------------------- ----- 430.1/502.5 kB 8.9 MB/s eta 0:00:01\n",
      "   ---------------------------------------- 502.5/502.5 kB 7.8 MB/s eta 0:00:00\n",
      "Installing collected packages: pytz, tzdata, numpy, pandas\n",
      "Successfully installed numpy-1.25.2 pandas-2.1.0 pytz-2023.3.post1 tzdata-2023.3\n"
     ]
    }
   ],
   "source": [
    "!pip install pandas numpy"
   ]
  },
  {
   "cell_type": "markdown",
   "metadata": {},
   "source": [
    "## 0.2: Import Dependencies\n",
    "Now that we have installed our dependencies, we need to import them."
   ]
  },
  {
   "cell_type": "code",
   "execution_count": 3,
   "metadata": {},
   "outputs": [],
   "source": [
    "import pandas as pd\n",
    "import numpy as np"
   ]
  },
  {
   "cell_type": "markdown",
   "metadata": {},
   "source": [
    "## Step 1: Load data\n",
    "Now, let's load in our data, and take a look at it. This dataset was a very lucky find, and has data from every single NBA game every up until 2022."
   ]
  },
  {
   "cell_type": "code",
   "execution_count": 4,
   "metadata": {},
   "outputs": [],
   "source": [
    "raw_df = pd.read_csv('NBA_MATCH_DETAILS.csv')"
   ]
  },
  {
   "cell_type": "markdown",
   "metadata": {},
   "source": [
    "Let's take a look at the head to get an idea of what stats we are using."
   ]
  },
  {
   "cell_type": "code",
   "execution_count": 5,
   "metadata": {},
   "outputs": [
    {
     "data": {
      "text/html": [
       "<div>\n",
       "<style scoped>\n",
       "    .dataframe tbody tr th:only-of-type {\n",
       "        vertical-align: middle;\n",
       "    }\n",
       "\n",
       "    .dataframe tbody tr th {\n",
       "        vertical-align: top;\n",
       "    }\n",
       "\n",
       "    .dataframe thead th {\n",
       "        text-align: right;\n",
       "    }\n",
       "</style>\n",
       "<table border=\"1\" class=\"dataframe\">\n",
       "  <thead>\n",
       "    <tr style=\"text-align: right;\">\n",
       "      <th></th>\n",
       "      <th>SEASON_ID</th>\n",
       "      <th>GAME_DATE</th>\n",
       "      <th>GAME_ID</th>\n",
       "      <th>MATCHUP</th>\n",
       "      <th>TEAM_NAME_HOME</th>\n",
       "      <th>TEAM_ID_HOME</th>\n",
       "      <th>TEAM_ABBREVIATION_HOME</th>\n",
       "      <th>FGM_HOME</th>\n",
       "      <th>FGA_HOME</th>\n",
       "      <th>FG_PCT_HOME</th>\n",
       "      <th>...</th>\n",
       "      <th>DREB_AWAY</th>\n",
       "      <th>REB_AWAY</th>\n",
       "      <th>AST_AWAY</th>\n",
       "      <th>STL_AWAY</th>\n",
       "      <th>BLK_AWAY</th>\n",
       "      <th>TOV_AWAY</th>\n",
       "      <th>PF_AWAY</th>\n",
       "      <th>PTS_AWAY</th>\n",
       "      <th>PTS_HOME</th>\n",
       "      <th>WL_HOME</th>\n",
       "    </tr>\n",
       "  </thead>\n",
       "  <tbody>\n",
       "    <tr>\n",
       "      <th>0</th>\n",
       "      <td>NaN</td>\n",
       "      <td>1981-03-29</td>\n",
       "      <td>28000934</td>\n",
       "      <td>ATL vs. MIL</td>\n",
       "      <td>Atlanta Hawks</td>\n",
       "      <td>1610612737</td>\n",
       "      <td>ATL</td>\n",
       "      <td>41.0</td>\n",
       "      <td>NaN</td>\n",
       "      <td>NaN</td>\n",
       "      <td>...</td>\n",
       "      <td>NaN</td>\n",
       "      <td>0</td>\n",
       "      <td>NaN</td>\n",
       "      <td>NaN</td>\n",
       "      <td>NaN</td>\n",
       "      <td>NaN</td>\n",
       "      <td>38.0</td>\n",
       "      <td>132</td>\n",
       "      <td>128</td>\n",
       "      <td>L</td>\n",
       "    </tr>\n",
       "    <tr>\n",
       "      <th>1</th>\n",
       "      <td>NaN</td>\n",
       "      <td>1981-03-26</td>\n",
       "      <td>28000919</td>\n",
       "      <td>ATL vs. IND</td>\n",
       "      <td>Atlanta Hawks</td>\n",
       "      <td>1610612737</td>\n",
       "      <td>ATL</td>\n",
       "      <td>43.0</td>\n",
       "      <td>NaN</td>\n",
       "      <td>NaN</td>\n",
       "      <td>...</td>\n",
       "      <td>NaN</td>\n",
       "      <td>0</td>\n",
       "      <td>NaN</td>\n",
       "      <td>NaN</td>\n",
       "      <td>NaN</td>\n",
       "      <td>NaN</td>\n",
       "      <td>20.0</td>\n",
       "      <td>115</td>\n",
       "      <td>107</td>\n",
       "      <td>L</td>\n",
       "    </tr>\n",
       "    <tr>\n",
       "      <th>2</th>\n",
       "      <td>NaN</td>\n",
       "      <td>1981-03-24</td>\n",
       "      <td>28000908</td>\n",
       "      <td>ATL vs. DET</td>\n",
       "      <td>Atlanta Hawks</td>\n",
       "      <td>1610612737</td>\n",
       "      <td>ATL</td>\n",
       "      <td>41.0</td>\n",
       "      <td>NaN</td>\n",
       "      <td>NaN</td>\n",
       "      <td>...</td>\n",
       "      <td>NaN</td>\n",
       "      <td>0</td>\n",
       "      <td>NaN</td>\n",
       "      <td>NaN</td>\n",
       "      <td>NaN</td>\n",
       "      <td>NaN</td>\n",
       "      <td>22.0</td>\n",
       "      <td>91</td>\n",
       "      <td>96</td>\n",
       "      <td>W</td>\n",
       "    </tr>\n",
       "    <tr>\n",
       "      <th>3</th>\n",
       "      <td>NaN</td>\n",
       "      <td>1981-03-14</td>\n",
       "      <td>28000845</td>\n",
       "      <td>ATL vs. CLE</td>\n",
       "      <td>Atlanta Hawks</td>\n",
       "      <td>1610612737</td>\n",
       "      <td>ATL</td>\n",
       "      <td>45.0</td>\n",
       "      <td>NaN</td>\n",
       "      <td>NaN</td>\n",
       "      <td>...</td>\n",
       "      <td>NaN</td>\n",
       "      <td>0</td>\n",
       "      <td>NaN</td>\n",
       "      <td>NaN</td>\n",
       "      <td>NaN</td>\n",
       "      <td>NaN</td>\n",
       "      <td>27.0</td>\n",
       "      <td>112</td>\n",
       "      <td>110</td>\n",
       "      <td>L</td>\n",
       "    </tr>\n",
       "    <tr>\n",
       "      <th>4</th>\n",
       "      <td>NaN</td>\n",
       "      <td>1981-03-13</td>\n",
       "      <td>28000839</td>\n",
       "      <td>ATL vs. DEN</td>\n",
       "      <td>Atlanta Hawks</td>\n",
       "      <td>1610612737</td>\n",
       "      <td>ATL</td>\n",
       "      <td>47.0</td>\n",
       "      <td>NaN</td>\n",
       "      <td>NaN</td>\n",
       "      <td>...</td>\n",
       "      <td>NaN</td>\n",
       "      <td>0</td>\n",
       "      <td>NaN</td>\n",
       "      <td>NaN</td>\n",
       "      <td>NaN</td>\n",
       "      <td>NaN</td>\n",
       "      <td>28.0</td>\n",
       "      <td>117</td>\n",
       "      <td>119</td>\n",
       "      <td>W</td>\n",
       "    </tr>\n",
       "  </tbody>\n",
       "</table>\n",
       "<p>5 rows × 47 columns</p>\n",
       "</div>"
      ],
      "text/plain": [
       "   SEASON_ID   GAME_DATE   GAME_ID      MATCHUP TEAM_NAME_HOME  TEAM_ID_HOME  \\\n",
       "0        NaN  1981-03-29  28000934  ATL vs. MIL  Atlanta Hawks    1610612737   \n",
       "1        NaN  1981-03-26  28000919  ATL vs. IND  Atlanta Hawks    1610612737   \n",
       "2        NaN  1981-03-24  28000908  ATL vs. DET  Atlanta Hawks    1610612737   \n",
       "3        NaN  1981-03-14  28000845  ATL vs. CLE  Atlanta Hawks    1610612737   \n",
       "4        NaN  1981-03-13  28000839  ATL vs. DEN  Atlanta Hawks    1610612737   \n",
       "\n",
       "  TEAM_ABBREVIATION_HOME  FGM_HOME  FGA_HOME  FG_PCT_HOME  ...  DREB_AWAY  \\\n",
       "0                    ATL      41.0       NaN          NaN  ...        NaN   \n",
       "1                    ATL      43.0       NaN          NaN  ...        NaN   \n",
       "2                    ATL      41.0       NaN          NaN  ...        NaN   \n",
       "3                    ATL      45.0       NaN          NaN  ...        NaN   \n",
       "4                    ATL      47.0       NaN          NaN  ...        NaN   \n",
       "\n",
       "   REB_AWAY  AST_AWAY  STL_AWAY  BLK_AWAY  TOV_AWAY  PF_AWAY  PTS_AWAY  \\\n",
       "0         0       NaN       NaN       NaN       NaN     38.0       132   \n",
       "1         0       NaN       NaN       NaN       NaN     20.0       115   \n",
       "2         0       NaN       NaN       NaN       NaN     22.0        91   \n",
       "3         0       NaN       NaN       NaN       NaN     27.0       112   \n",
       "4         0       NaN       NaN       NaN       NaN     28.0       117   \n",
       "\n",
       "   PTS_HOME  WL_HOME  \n",
       "0       128        L  \n",
       "1       107        L  \n",
       "2        96        W  \n",
       "3       110        L  \n",
       "4       119        W  \n",
       "\n",
       "[5 rows x 47 columns]"
      ]
     },
     "execution_count": 5,
     "metadata": {},
     "output_type": "execute_result"
    }
   ],
   "source": [
    "raw_df.head()"
   ]
  },
  {
   "cell_type": "markdown",
   "metadata": {},
   "source": [
    "Looks pretty intimidating. Let's look at how many columns we have"
   ]
  },
  {
   "cell_type": "code",
   "execution_count": 6,
   "metadata": {},
   "outputs": [
    {
     "data": {
      "text/plain": [
       "47"
      ]
     },
     "execution_count": 6,
     "metadata": {},
     "output_type": "execute_result"
    }
   ],
   "source": [
    "raw_df.shape[1]"
   ]
  },
  {
   "cell_type": "markdown",
   "metadata": {},
   "source": [
    "47 columns! This leaves us a lot of room to work with, but we definitely aren't going to want to fit this many columns into any sort of model"
   ]
  },
  {
   "cell_type": "markdown",
   "metadata": {},
   "source": []
  }
 ],
 "metadata": {
  "kernelspec": {
   "display_name": ".venv",
   "language": "python",
   "name": "python3"
  },
  "language_info": {
   "codemirror_mode": {
    "name": "ipython",
    "version": 3
   },
   "file_extension": ".py",
   "mimetype": "text/x-python",
   "name": "python",
   "nbconvert_exporter": "python",
   "pygments_lexer": "ipython3",
   "version": "3.10.5"
  },
  "orig_nbformat": 4
 },
 "nbformat": 4,
 "nbformat_minor": 2
}
